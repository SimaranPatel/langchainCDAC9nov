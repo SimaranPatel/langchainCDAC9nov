{
 "cells": [
  {
   "cell_type": "code",
   "execution_count": 1,
   "metadata": {},
   "outputs": [],
   "source": [
    "import random as r"
   ]
  },
  {
   "cell_type": "code",
   "execution_count": 4,
   "metadata": {},
   "outputs": [],
   "source": [
    "actors=['Matt Damon','Matthew McConaughey','Cillian Murphy','Leonardo DiCaprio','Will Smith']\n",
    "def actor_picker(actors):\n",
    "    Actor=r.choice(actors)\n",
    "    return Actor"
   ]
  },
  {
   "cell_type": "code",
   "execution_count": 5,
   "metadata": {},
   "outputs": [],
   "source": [
    "themes=['Science Fiction','Comedy','Horror','Patriotic','Love']\n",
    "def theme_picker(themes):\n",
    "    Theme=r.choice(themes)\n",
    "    return Theme"
   ]
  },
  {
   "cell_type": "code",
   "execution_count": 6,
   "metadata": {},
   "outputs": [],
   "source": [
    "locations=['Paris','Rome','Delhi','London','Tokyo']\n",
    "def location_picker(locations):\n",
    "    Location=r.choice(locations)\n",
    "    return Location"
   ]
  },
  {
   "cell_type": "code",
   "execution_count": null,
   "metadata": {},
   "outputs": [],
   "source": [
    "import os\n",
    "import configparser\n",
    "\n",
    "from langchain_groq import ChatGroq\n",
    "from langchain_cohere import ChatCohere\n",
    "\n",
    "from langchain_core.messages import HumanMessage, SystemMessage\n",
    "\n",
    "config = configparser.ConfigParser()\n",
    "config.read('../config.ini')\n",
    "groq = config['groq']\n",
    "cohere = config['cohere']\n",
    "\n",
    "os.environ['GROQ_API_KEY'] = groq.get('GROQ_API_KEY')\n",
    "os.environ['COHERE_API_KEY'] = cohere.get('COHERE_API_KEY')\n",
    "\n",
    "messages = [\n",
    "    SystemMessage(content='You are a script writer. You will respond to all the story related queries to the best of you ability.'),\n",
    "    HumanMessage(content='Tell me a short story')\n",
    "]\n",
    "\n",
    "model = ChatCohere(model=\"command-r-plus\")\n",
    "\n",
    "model = ChatGroq(model=\"llama3-8b-8192\")"
   ]
  },
  {
   "cell_type": "code",
   "execution_count": 26,
   "metadata": {},
   "outputs": [
    {
     "name": "stdout",
     "output_type": "stream",
     "text": [
      "Here's a brief story:\n",
      "\n",
      "Title: The Quantum Prophecy\n",
      "\n",
      "In the year 2154, Paris was a city transformed. The once romantic streets were now lined with towering skyscrapers and neon-lit billboards. Amidst this futuristic landscape, our protagonist, Leonardo DiCaprio, played the role of Dr. Elianore Quasar, a brilliant physicist on the cusp of a groundbreaking discovery.\n",
      "\n",
      "As he worked late one night in his laboratory, Elianore stumbled upon an anomaly in the fabric of space-time. The readings indicated that a catastrophic event was imminent, threatening to destroy the very fabric of reality. Determined to prevent the calamity, Elianore poured all his energy into unraveling the mystery behind the anomaly.\n",
      "\n",
      "With the help of his AI assistant, Ada, Elianore deciphered the cryptic messages encoded in the data, leading him to an ancient tome hidden deep within the Parisian catacombs. As he opened the book, he discovered that it was the journal of a 17th-century alchemist who had predicted the event.\n",
      "\n",
      "With the clock ticking down, Elianore found himself racing against time to prevent the catastrophe. He used his knowledge of quantum mechanics to create a device that could manipulate the space-time continuum. As the moment of truth approached, Elianore stood atop the Eiffel Tower, ready to face the unknown.\n",
      "\n",
      "In a heart-pumping climax, Elianore activated the device, and the outcome was far from certain. Would he be able to prevent the disaster, or would the very fabric of reality tear apart?\n"
     ]
    }
   ],
   "source": [
    "from langchain_core.output_parsers import StrOutputParser\n",
    "from langchain_core.prompts import ChatPromptTemplate\n",
    "parser = StrOutputParser()\n",
    "\n",
    "actor = actor_picker(actors)\n",
    "theme = theme_picker(themes)\n",
    "location = location_picker(locations)\n",
    "story=[actor,theme,location]\n",
    "\n",
    "\n",
    "system_template = \"write the story by considering following actor,theme and location. Please provide a {responseType} response.\" \n",
    "\n",
    "\n",
    "prompt_template = ChatPromptTemplate.from_messages(\n",
    "    [\n",
    "        (\"system\", system_template),\n",
    "        (\"user\", story)\n",
    "    ]\n",
    ")\n",
    "\n",
    "\n",
    "model = ChatGroq(model=\"llama3-8b-8192\")\n",
    "chain = prompt_template | model | parser\n",
    "\n",
    "Model1=chain.invoke({\"responseType\":\"brief\"})\n",
    "print(Model1)\n"
   ]
  },
  {
   "cell_type": "code",
   "execution_count": 27,
   "metadata": {},
   "outputs": [],
   "source": [
    "from langchain_core.chat_history import (\n",
    "    BaseChatMessageHistory,\n",
    "    InMemoryChatMessageHistory,\n",
    ")"
   ]
  },
  {
   "cell_type": "code",
   "execution_count": 29,
   "metadata": {},
   "outputs": [
    {
     "name": "stdout",
     "output_type": "stream",
     "text": [
      "What a thrilling story! I can already imagine the visuals and tension building up as I read through it. Let me offer some suggestions and questions to help refine the narrative:\n",
      "\n",
      "1. **Establishing the stakes**: While we get a sense of the catastrophic event, it would be helpful to clarify what exactly is at risk. Will the destruction of reality mean the end of humanity, or will it have more localized consequences? This could add more emotional weight to Elianore's quest.\n",
      "2. **Elianore's character**: We don't know much about Dr. Quasar beyond his being a brilliant physicist. Adding some personal touches could make him more relatable. What motivates him? Does he have a personal connection to the event or its consequences? How does his background and experiences shape his actions?\n",
      "3. **The ancient tome and alchemist**: The inclusion of the ancient tome and alchemist adds a layer of intrigue. You could explore the history behind the alchemist's predictions and the significance of the journal. How does Elianore's discovery of the book change his understanding of the event and his mission to prevent it?\n",
      "4. **The device and its limitations**: The device Elianore creates is a crucial plot point. It would be interesting to know more about its capabilities and limitations. Can it only manipulate the space-time continuum in a specific way, or does it have more flexibility? Are there risks involved with using the device, and if so, what are they?\n",
      "5. **The climax**: The final confrontation is intense, but it would be great to add more tension and uncertainty. Consider introducing an unexpected twist or complication that makes Elianore's task even more challenging. This could include an unforeseen consequence of using the device, an unexpected opponent, or a personal sacrifice Elianore must make.\n",
      "6. **The ending**: The story ends abruptly, leaving the reader wondering what happens next. You could add a more definitive conclusion to wrap up the narrative. Does Elianore succeed in preventing the catastrophe, and if so, at what cost? Are there any repercussions or new challenges that arise from his actions?\n",
      "\n",
      "Overall, your story has a great premise and plenty of opportunities for exciting plot developments. By adding more depth to the characters, worldbuilding, and plot, you can create a truly engaging and memorable narrative.\n",
      "Here's the modified story:\n",
      "\n",
      "Title: The Quantum Prophecy\n",
      "\n",
      "In the year 2154, Paris was a city transformed. The once romantic streets were now lined with towering skyscrapers and neon-lit billboards. Amidst this futuristic landscape, our protagonist, Leonardo DiCaprio, played the role of Dr. Elianore Quasar, a brilliant physicist on the cusp of a groundbreaking discovery.\n",
      "\n",
      "As he worked late one night in his laboratory, Elianore stumbled upon an anomaly in the fabric of space-time. The readings indicated that a catastrophic event was imminent, threatening to destroy the very fabric of reality. Determined to prevent the calamity, Elianore poured all his energy into unraveling the mystery behind the anomaly.\n",
      "\n",
      "Just then, his AI assistant, Ada, interrupted him with an urgent message from the Parisian authorities. A team of scientists, led by the renowned Dr. Sophia Patel, had discovered a hidden underground bunker beneath the city, and they needed Elianore's expertise to decipher its secrets.\n",
      "\n",
      "Elianore arrived at the bunker, where he met Dr. Patel, a charismatic and brilliant scientist, played by Priyanka Chopra. As they began to explore the bunker, they found cryptic messages and ancient artifacts that hinted at an imminent catastrophe.\n",
      "\n",
      "With Dr. Patel's help, Elianore deciphered the messages, leading them to an ancient tome hidden deep within the Parisian catacombs. As he opened the book, he discovered that it was the journal of a 17th-century alchemist who had predicted the event.\n",
      "\n",
      "With the clock ticking down, Elianore and Dr. Patel found themselves racing against time to prevent the catastrophe. They used their combined knowledge of quantum mechanics and ancient mysticism to create a device that could manipulate the space-time continuum. As the moment of truth approached, Elianore and Dr. Patel stood atop the Eiffel Tower, ready to face the unknown.\n",
      "\n",
      "In a heart-pumping climax, Elianore activated the device, and the outcome was far from certain. Would they be able to prevent the disaster, or would the very fabric of reality tear apart?\n",
      "\n",
      "As the device hummed to life, Dr. Patel's eyes locked onto Elianore's, and she whispered, \"We did it, Elianore. We changed the course of history.\" But just as they thought they had succeeded, a strange energy wave began to distort the air around them, threatening to unravel the fabric of reality once more...\n",
      "\n",
      "This modified story adds Priyanka Chopra's character, Dr. Sophia Patel, as a team leader and scientist who helps Elianore decipher the ancient tome and prevent the catastrophe. Her presence adds a new dynamic to the story, and her character brings a unique set of skills and perspectives to the mission. The addition of Dr. Patel also creates opportunities for more tension and conflict, as Elianore and she work together to prevent the disaster and navigate the challenges that come with it.\n"
     ]
    }
   ],
   "source": [
    "from langchain_core.runnables.history import RunnableWithMessageHistory\n",
    "store = {}\n",
    "\n",
    "def get_session_history(session_id: str) -> BaseChatMessageHistory:\n",
    "    if session_id not in store: \n",
    "        store[session_id] = InMemoryChatMessageHistory()\n",
    "    return store[session_id]\n",
    "config = {'configurable': {\"session_id\": \"story01\"}}\n",
    "withHistory = RunnableWithMessageHistory(model, get_session_history)\n",
    "\n",
    "response = withHistory.invoke([HumanMessage(content=Model1)], config=config)\n",
    "\n",
    "print(response.content)\n",
    "\n",
    "\n",
    "response = withHistory.invoke(\n",
    "    [HumanMessage(content=\"Modify the previous story by adding actress Priyanka Chopra\")], config=config)\n",
    "\n",
    "print(response.content)"
   ]
  }
 ],
 "metadata": {
  "kernelspec": {
   "display_name": "Python 3",
   "language": "python",
   "name": "python3"
  },
  "language_info": {
   "codemirror_mode": {
    "name": "ipython",
    "version": 3
   },
   "file_extension": ".py",
   "mimetype": "text/x-python",
   "name": "python",
   "nbconvert_exporter": "python",
   "pygments_lexer": "ipython3",
   "version": "3.12.1"
  }
 },
 "nbformat": 4,
 "nbformat_minor": 2
}
