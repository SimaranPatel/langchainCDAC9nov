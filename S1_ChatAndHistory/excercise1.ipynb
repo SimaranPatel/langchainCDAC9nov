{
 "cells": [
  {
   "cell_type": "code",
   "execution_count": 1,
   "metadata": {},
   "outputs": [],
   "source": [
    "import random as r"
   ]
  },
  {
   "cell_type": "code",
   "execution_count": 2,
   "metadata": {},
   "outputs": [],
   "source": [
    "actors=['Matt Damon','Matthew McConaughey','Cillian Murphy','Leonardo DiCaprio','Will Smith']\n",
    "def actor_picker(actors):\n",
    "    Actor=r.choice(actors)\n",
    "    return Actor"
   ]
  },
  {
   "cell_type": "code",
   "execution_count": 3,
   "metadata": {},
   "outputs": [],
   "source": [
    "themes=['Science Fiction','Comedy','Horror','Patriotic','Love']\n",
    "def theme_picker(themes):\n",
    "    Theme=r.choice(themes)\n",
    "    return Theme"
   ]
  },
  {
   "cell_type": "code",
   "execution_count": 4,
   "metadata": {},
   "outputs": [],
   "source": [
    "locations=['Paris','Rome','Delhi','London','Tokyo']\n",
    "def location_picker(locations):\n",
    "    Location=r.choice(locations)\n",
    "    return Location"
   ]
  },
  {
   "cell_type": "code",
   "execution_count": 5,
   "metadata": {},
   "outputs": [
    {
     "name": "stdout",
     "output_type": "stream",
     "text": [
      "content='Romeo and Juliet is one of the most famous and enduring love stories of all time, a tragic tale of young love, passion, and fate. Here is a summary of the story:\\n\\n**Act 1:**\\n\\nThe play begins in Verona, Italy, where we are introduced to the ongoing feud between two prominent families, the House of Capulet and the House of Montague. Despite the animosity between their families, Romeo Montague and Juliet Capulet fall instantly in love when they meet at a masked ball hosted by the Capulets. \\n\\nRomeo, captivated by Juliet\\'s beauty, approaches her and they share a passionate dance. They soon learn each other\\'s identities and realize the depth of the conflict between their families, but this only intensifies their feelings for each other. \\n\\n**Act 2:**\\n\\nRomeo and Juliet secretly marry the very next day, with the help of Juliet\\'s Nurse and Friar Lawrence, who hopes that this union might end the feud between the families. However, their happiness is short-lived as a street brawl breaks out, leading to the deaths of Romeo\\'s friend Mercutio and Juliet\\'s cousin Tybalt. Romeo, enraged by Mercutio\\'s death, kills Tybalt in retaliation. \\n\\nAs a consequence, Romeo is banished by the Prince of Verona. Before he leaves, he spends the night with Juliet, who is unaware of Tybalt\\'s death and Romeo\\'s involvement. \\n\\n**Act 3:**\\n\\nJuliet\\'s parents, unaware of her secret marriage, arrange for her to marry Count Paris. Distraught, Juliet seeks help from Friar Lawrence, who devises a plan to keep her from having to marry Paris. He gives her a sleeping potion that will make her appear dead, so she can be taken to the Capulet family tomb without being truly deceased. \\n\\nFriar Lawrence intends to send a message to Romeo, explaining the plan so he can rescue Juliet when she awakens, but the message fails to reach him. \\n\\n**Act 4:**\\n\\nBelieving Juliet to be truly dead, Romeo buys poison from an Apothecary in Mantua and returns to Verona to say goodbye to his love. He encounters Paris at the tomb, and the two fight, leading to Paris\\'s death. Romeo then grieves over Juliet\\'s body and drinks the poison, taking his own life. \\n\\n**Act 5:**\\n\\nJuliet awakens to find Romeo dead beside her. Heartbroken, she takes his dagger and stabs herself, choosing to die with her true love. The Friar, the Prince, and the heads of both families arrive at the tomb, only to discover the tragic outcome of their ongoing feud. \\n\\nMoved by the lovers\\' deaths, the Prince declares:\\n> \"For never was a story of more woe / Than this of Juliet and her Romeo.\"\\n\\nThe families are reconciled by their children\\'s deaths and agree to end their feud, building a golden statue of Juliet and a tomb for Romeo to symbolize their newfound peace. \\n\\nThe play ends with a message of hope, reminding us that even in the face of tragedy, love and understanding can prevail. \\n\\nThis timeless tale has been adapted countless times for stage, screen, and literature, and continues to capture the hearts of audiences around the world.' additional_kwargs={'documents': None, 'citations': None, 'search_results': None, 'search_queries': None, 'is_search_required': None, 'generation_id': 'dca7c55c-ebe3-49ef-85ac-781a894f56e1', 'token_count': {'input_tokens': 227.0, 'output_tokens': 674.0}} response_metadata={'documents': None, 'citations': None, 'search_results': None, 'search_queries': None, 'is_search_required': None, 'generation_id': 'dca7c55c-ebe3-49ef-85ac-781a894f56e1', 'token_count': {'input_tokens': 227.0, 'output_tokens': 674.0}} id='run-9c068b35-486d-4f0b-a89f-ebfad4af0997-0' usage_metadata={'input_tokens': 227, 'output_tokens': 674, 'total_tokens': 901}\n",
      "content=\"The eternal tale of star-cross'd lovers! Here's the famous story of Romeo and Juliet:\\n\\nIn the city of Verona, two powerful families, the Montagues and the Capulets, have been feuding for years. Against this backdrop of hatred and violence, two young lovers from the rival families fall deeply in love.\\n\\nRomeo, a Montague, sneaks into a ball hosted by his rival family, the Capulets, to catch a glimpse of Rosaline, a Capulet who has rejected him. However, upon seeing Juliet, the beautiful and charming daughter of the Capulets, Romeo is instantly smitten. He forgets all about Rosaline and falls head over heels in love with Juliet.\\n\\nJuliet, too, is taken by Romeo's charming and passionate nature. The two exchange vows of love, and their families' hatred for each other becomes a distant concern. They marry in secret, with the help of Friar Lawrence, a wise and understanding priest who hopes to end the feud between the families through their union.\\n\\nHowever, their happiness is short-lived. When Romeo kills Juliet's cousin Tybalt in a duel, he is banished from Verona. Juliet fakes her own death to avoid marrying another man her parents have chosen for her, but Romeo believes she is really dead and poisons himself in her tomb.\\n\\nJuliet awakens to find Romeo dead and, in grief and despair, stabs herself with his dagger to join him in death. The tragic end of the two lovers ultimately brings peace between their families, as they realize the senseless destruction their feud has caused.\\n\\nThe story of Romeo and Juliet has become an iconic tale of love, passion, and tragedy, inspiring countless adaptations, interpretations, and references in art, literature, music, and film. It remains one of the most beloved and enduring stories of all time.\" additional_kwargs={} response_metadata={'token_usage': {'completion_tokens': 381, 'prompt_tokens': 46, 'total_tokens': 427, 'completion_time': 0.3175, 'prompt_time': 0.002425346, 'queue_time': 0.012063734, 'total_time': 0.319925346}, 'model_name': 'llama3-8b-8192', 'system_fingerprint': 'fp_179b0f92c9', 'finish_reason': 'stop', 'logprobs': None} id='run-156bb569-d289-4ddf-a443-dbf7e96bfd8f-0' usage_metadata={'input_tokens': 46, 'output_tokens': 381, 'total_tokens': 427}\n"
     ]
    }
   ],
   "source": [
    "import os\n",
    "import configparser\n",
    "\n",
    "from langchain_groq import ChatGroq\n",
    "from langchain_cohere import ChatCohere\n",
    "\n",
    "from langchain_core.messages import HumanMessage, SystemMessage\n",
    "\n",
    "config = configparser.ConfigParser()\n",
    "config.read('../config.ini')\n",
    "groq = config['groq']\n",
    "cohere = config['cohere']\n",
    "\n",
    "os.environ['GROQ_API_KEY'] = groq.get('GROQ_API_KEY')\n",
    "os.environ['COHERE_API_KEY'] = cohere.get('COHERE_API_KEY')\n",
    "\n",
    "messages = [\n",
    "    SystemMessage(content='You are a script writer. You will respond to all the story related queries to the best of you ability.'),\n",
    "    HumanMessage(content='Tell me the famous story of Romeo and Juliet')\n",
    "]\n",
    "\n",
    "\n",
    "\n",
    "## code for cohere.\n",
    "model = ChatCohere(model=\"command-r-plus\")\n",
    "print(model.invoke(messages))\n",
    "\n",
    "## Code for Groq\n",
    "model = ChatGroq(model=\"llama3-8b-8192\")\n",
    "print(model.invoke(messages))"
   ]
  },
  {
   "cell_type": "code",
   "execution_count": 7,
   "metadata": {},
   "outputs": [
    {
     "data": {
      "text/plain": [
       "\"Title: The Shadow of the Seine\\n\\nWill Smith plays the role of James, a successful American businessman who has just landed a major deal in Paris. As he's celebrating his good fortune with a glass of wine at a charming café along the Seine, he starts to feel a strange, unsettling presence lurking in the shadows.\\n\\nAt first, James dismisses it as his imagination, but as the days go by, the feeling only intensifies. He begins to experience vivid, disturbing nightmares and wakes up with unexplained bruises. His new business partners seem to be hiding something, and the city's ancient streets seem to be whispering secrets in his ear.\\n\\nAs James delves deeper into the mystery, he discovers that Paris has a dark history of supernatural occurrences and that he's unwittingly stumbled into the midst of an ancient curse. The more he learns, the more he realizes that he's not just fighting for his sanity but for his very life.\\n\\nWith the help of a local expert, a charming and enigmatic French woman named Sophie, James must confront the evil head-on and break the curse before it's too late. But as the night wears on, James begins to suspect that Sophie may not be what she seems, and the lines between reality and nightmare begin to blur.\\n\\nIn the end, James must face his deepest fears and use all his wits to survive the horrors that lurk in the shadows of the City of Light. Will he be able to overcome the curse and make it out alive, or will the darkness consume him forever?\""
      ]
     },
     "execution_count": 7,
     "metadata": {},
     "output_type": "execute_result"
    }
   ],
   "source": [
    "from langchain_core.output_parsers import StrOutputParser\n",
    "from langchain_core.prompts import ChatPromptTemplate\n",
    "parser = StrOutputParser()\n",
    "\n",
    "actor = actor_picker(actors)\n",
    "theme = theme_picker(themes)\n",
    "location = location_picker(locations)\n",
    "story=[actor,theme,location]\n",
    "\n",
    "\n",
    "system_template = \"write the story by considering following actor,theme and location. Please provide a {responseType} response.\" \n",
    "\n",
    "\n",
    "prompt_template = ChatPromptTemplate.from_messages(\n",
    "    [\n",
    "        (\"system\", system_template),\n",
    "        (\"user\", story)\n",
    "    ]\n",
    ")\n",
    "\n",
    "\n",
    "model = ChatGroq(model=\"llama3-8b-8192\")\n",
    "chain = prompt_template | model | parser\n",
    "\n",
    "chain.invoke({\"responseType\":\"brief\"})\n"
   ]
  }
 ],
 "metadata": {
  "kernelspec": {
   "display_name": "Python 3",
   "language": "python",
   "name": "python3"
  },
  "language_info": {
   "codemirror_mode": {
    "name": "ipython",
    "version": 3
   },
   "file_extension": ".py",
   "mimetype": "text/x-python",
   "name": "python",
   "nbconvert_exporter": "python",
   "pygments_lexer": "ipython3",
   "version": "3.12.1"
  }
 },
 "nbformat": 4,
 "nbformat_minor": 2
}
