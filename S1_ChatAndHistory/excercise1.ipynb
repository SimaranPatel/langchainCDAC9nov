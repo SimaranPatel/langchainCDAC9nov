{
 "cells": [
  {
   "cell_type": "code",
   "execution_count": 1,
   "metadata": {},
   "outputs": [],
   "source": [
    "import random as r"
   ]
  },
  {
   "cell_type": "code",
   "execution_count": 2,
   "metadata": {},
   "outputs": [],
   "source": [
    "actors=['Matt Damon','Matthew McConaughey','Cillian Murphy','Leonardo DiCaprio','Will Smith']\n",
    "def actor_picker(actors):\n",
    "    Actor=r.choice(actors)\n",
    "    return Actor"
   ]
  },
  {
   "cell_type": "code",
   "execution_count": 3,
   "metadata": {},
   "outputs": [],
   "source": [
    "themes=['Science Fiction','Comedy','Horror','Patriotic','Love']\n",
    "def theme_picker(themes):\n",
    "    Theme=r.choice(themes)\n",
    "    return Theme"
   ]
  },
  {
   "cell_type": "code",
   "execution_count": 4,
   "metadata": {},
   "outputs": [],
   "source": [
    "locations=['Paris','Rome','Delhi','London','Tokyo']\n",
    "def location_picker(locations):\n",
    "    Location=r.choice(locations)\n",
    "    return Location"
   ]
  },
  {
   "cell_type": "code",
   "execution_count": 5,
   "metadata": {},
   "outputs": [
    {
     "name": "stdout",
     "output_type": "stream",
     "text": [
      "content=\"Romeo and Juliet is one of the most famous and enduring love stories of all time, a tragic tale of young love, passion, and fate. Here is a summary of the story:\\n\\n**Act 1:**\\n\\nThe play begins in Verona, Italy, where we are introduced to the ongoing feud between two prominent families, the House of Capulet and the House of Montague. Despite the animosity between their families, Romeo Montague and Juliet Capulet fall instantly in love when they meet at a masked ball hosted by the Capulets. \\n\\nRomeo, captivated by Juliet's beauty, approaches her and they share a passionate dance. They soon learn each other's identities and realize the depth of the conflict between their families, but this only intensifies their feelings for each other. \\n\\n**Act 2:**\\n\\nRomeo and Juliet secretly marry the very next day, with the help of Juliet's Nurse and Friar Lawrence, who hopes that this union might end the feud between the families. However, their happiness is short-lived as Juliet's cousin, Tybalt, recognizes Romeo's voice from the ball and challenges him to a duel. Romeo, now secretly married to Tybalt's cousin, refuses to fight, which angers his friend Mercutio, who then fights Tybalt himself. Mercutio is accidentally killed, and Romeo, enraged, kills Tybalt in retaliation. \\n\\nAs a consequence, Romeo is banished by the Prince of Verona, and Juliet's parents, unaware of her secret marriage, plan to marry her off to Count Paris. \\n\\n**Act 3:**\\n\\nDistraught and desperate, Juliet seeks help from Friar Lawrence, who devises a plan to keep her from having to marry Paris. He gives Juliet a sleeping draught that will make her appear dead, with the intention of sending a message to Romeo so he can return to Verona and take Juliet away when she wakes. \\n\\nJuliet takes the potion the night before her wedding to Paris, and the Friar's message is sent to Romeo via Friar John. \\n\\n**Act 4:**\\n\\nUnfortunately, the message to Romeo is delayed, and he does not receive news of the plan. Instead, he only hears that Juliet is dead, and, overcome with grief, he buys poison from an Apothecary and returns to Verona to die by her side. \\n\\nMeanwhile, Juliet wakes in the Capulet tomb to find Romeo's dead body. Realizing what has happened, she takes Romeo's knife and stabs herself, choosing to die with her true love. \\n\\n**Act 5:**\\n\\nThe deaths of Romeo and Juliet finally bring an end to the feud between the Capulet and Montague families, as the tragedy highlights the futility of their conflict. The play concludes with the Prince's powerful monologue, reflecting on the needless loss of life and the consequences of the families' hatred. \\n\\nRomeo and Juliet's story has become an iconic symbol of young love, and their tragic end serves as a reminder of the destructive power of familial feuds and the importance of reconciliation. \\n\\nThis timeless tale continues to capture the imaginations of audiences around the world, inspiring countless adaptations and remaining one of Shakespeare's most beloved and frequently performed plays.\" additional_kwargs={'documents': None, 'citations': None, 'search_results': None, 'search_queries': None, 'is_search_required': None, 'generation_id': 'ba95648f-2367-40df-9743-1ae01ac08a5e', 'token_count': {'input_tokens': 227.0, 'output_tokens': 659.0}} response_metadata={'documents': None, 'citations': None, 'search_results': None, 'search_queries': None, 'is_search_required': None, 'generation_id': 'ba95648f-2367-40df-9743-1ae01ac08a5e', 'token_count': {'input_tokens': 227.0, 'output_tokens': 659.0}} id='run-b01b23e0-138a-4451-a8b9-71441475e77f-0' usage_metadata={'input_tokens': 227, 'output_tokens': 659, 'total_tokens': 886}\n",
      "content=\"One of the most iconic and beloved stories of all time! Romeo and Juliet, written by William Shakespeare, is a tale of star-crossed lovers from feuding families in Verona, Italy.\\n\\nThe story begins with a bitter feud between the Montagues and the Capulets, two powerful families who have been at odds for years. Against this backdrop of hatred and violence, Romeo, a young Montague, falls deeply in love with Juliet, the beautiful daughter of the Capulets.\\n\\nRomeo and Juliet meet at a ball hosted by the Capulets, where Romeo is smitten with Juliet's beauty. They exchange vows of love, and Romeo, being a romantic at heart, sneaks into the Capulet's garden to declare his love to Juliet. They share a kiss, and their love becomes the talk of the town.\\n\\nHowever, their families' hatred for each other makes their love impossible. Romeo and Juliet decide to keep their relationship a secret, but their families' animosity only grows stronger. When Romeo kills Juliet's cousin Tybalt in a duel, he is banished from Verona.\\n\\nMeanwhile, Juliet's parents arrange for her to marry another man, Paris, but Juliet refuses, preferring to marry Romeo instead. In desperation, she turns to the wise and loyal nurse who had cared for her since childhood for help. The nurse advises Juliet to marry Paris, but Juliet is resolute in her decision.\\n\\nIn a bold move, Juliet fakes her own death to avoid the marriage, but Romeo believes she is really dead and poisons himself in her tomb. Juliet awakens to find Romeo dead and, in grief and despair, stabs herself with his dagger to join him in death.\\n\\nThe tragic end of the two lovers ultimately brings peace between their families, as they realize the senseless destruction their feud has caused. The story of Romeo and Juliet has become an iconic tale of love, loss, and the devastating consequences of hate.\\n\\nThis timeless tale has been retold and reinterpreted countless times in literature, film, and theater, cementing its place as one of the most enduring and beloved stories of all time.\" additional_kwargs={} response_metadata={'token_usage': {'completion_tokens': 432, 'prompt_tokens': 46, 'total_tokens': 478, 'completion_time': 0.36, 'prompt_time': 0.002243336, 'queue_time': 0.012342121, 'total_time': 0.362243336}, 'model_name': 'llama3-8b-8192', 'system_fingerprint': 'fp_179b0f92c9', 'finish_reason': 'stop', 'logprobs': None} id='run-c7af977e-8642-4626-9bab-36a1e6a5036e-0' usage_metadata={'input_tokens': 46, 'output_tokens': 432, 'total_tokens': 478}\n"
     ]
    }
   ],
   "source": [
    "import os\n",
    "import configparser\n",
    "\n",
    "from langchain_groq import ChatGroq\n",
    "from langchain_cohere import ChatCohere\n",
    "\n",
    "from langchain_core.messages import HumanMessage, SystemMessage\n",
    "\n",
    "config = configparser.ConfigParser()\n",
    "config.read('../config.ini')\n",
    "groq = config['groq']\n",
    "cohere = config['cohere']\n",
    "\n",
    "os.environ['GROQ_API_KEY'] = groq.get('GROQ_API_KEY')\n",
    "os.environ['COHERE_API_KEY'] = cohere.get('COHERE_API_KEY')\n",
    "\n",
    "messages = [\n",
    "    SystemMessage(content='You are a script writer. You will respond to all the story related queries to the best of you ability.'),\n",
    "    HumanMessage(content='Tell me the famous story of Romeo and Juliet')\n",
    "]\n",
    "\n",
    "\n",
    "\n",
    "## code for cohere.\n",
    "model = ChatCohere(model=\"command-r-plus\")\n",
    "print(model.invoke(messages))\n",
    "\n",
    "## Code for Groq\n",
    "model = ChatGroq(model=\"llama3-8b-8192\")\n",
    "print(model.invoke(messages))"
   ]
  },
  {
   "cell_type": "code",
   "execution_count": 6,
   "metadata": {},
   "outputs": [
    {
     "data": {
      "text/plain": [
       "\"Here's a brief story considering the actor Cillian Murphy, theme, and location:\\n\\nTitle: The Silent Observer\\n\\nCillian Murphy plays the role of Jack, a retired detective who has spent most of his life observing the world around him. He has a keen eye for detail and a knack for piecing together seemingly unrelated events.\\n\\nThe story takes place in the bustling streets of London, where Jack has returned to his childhood home after a long absence. He's drawn back to the city by a mysterious letter from an old acquaintance, hinting at a long-buried secret that threatens to upend his quiet life.\\n\\nAs Jack delves deeper into the mystery, he finds himself navigating the city's underbelly, from dingy pubs to high-stakes poker games. Along the way, he crosses paths with a cast of characters who are all hiding secrets of their own.\\n\\nWith his keen observational skills and years of experience, Jack begins to unravel the tangled threads of the mystery. But as the truth begins to reveal itself, he realizes that some secrets are better left buried.\\n\\nThe story explores the theme of obsession, as Jack becomes increasingly consumed by the mystery and the secrets it holds. Will he be able to uncover the truth without losing himself in the process? Or will the city's quiet streets become his final resting place?\\n\\nThe story is a gripping thriller that pays homage to the gritty, atmospheric landscapes of London, while exploring the complex psyche of its protagonist.\""
      ]
     },
     "execution_count": 6,
     "metadata": {},
     "output_type": "execute_result"
    }
   ],
   "source": [
    "from langchain_core.output_parsers import StrOutputParser\n",
    "from langchain_core.prompts import ChatPromptTemplate\n",
    "parser = StrOutputParser()\n",
    "\n",
    "actor = actor_picker(actors)\n",
    "theme = theme_picker(themes)\n",
    "location = location_picker(locations)\n",
    "story=[actor,theme,location]\n",
    "\n",
    "\n",
    "system_template = \"write the story by considering following actor,theme and location. Please provide a {responseType} response.\" \n",
    "\n",
    "\n",
    "prompt_template = ChatPromptTemplate.from_messages(\n",
    "    [\n",
    "        (\"system\", system_template),\n",
    "        (\"user\", story)\n",
    "    ]\n",
    ")\n",
    "\n",
    "\n",
    "model = ChatGroq(model=\"llama3-8b-8192\")\n",
    "chain = prompt_template | model | parser\n",
    "\n",
    "chain.invoke({\"responseType\":\"brief\"})\n"
   ]
  }
 ],
 "metadata": {
  "kernelspec": {
   "display_name": "Python 3",
   "language": "python",
   "name": "python3"
  },
  "language_info": {
   "codemirror_mode": {
    "name": "ipython",
    "version": 3
   },
   "file_extension": ".py",
   "mimetype": "text/x-python",
   "name": "python",
   "nbconvert_exporter": "python",
   "pygments_lexer": "ipython3",
   "version": "3.12.1"
  }
 },
 "nbformat": 4,
 "nbformat_minor": 2
}
